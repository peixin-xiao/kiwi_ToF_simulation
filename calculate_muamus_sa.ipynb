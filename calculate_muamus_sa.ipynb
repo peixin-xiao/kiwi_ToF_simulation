{
 "cells": [
  {
   "cell_type": "code",
   "execution_count": 3,
   "metadata": {},
   "outputs": [],
   "source": [
    "# calculate kiwifruit 's each parts' mua, mus, with Shape Approximation method\n",
    "import pandas as pd\n",
    "from pandas import DataFrame,Series\n",
    "import numpy as np\n",
    "from io import StringIO\n",
    "import matplotlib.pyplot as plt\n",
    "# import tensorflow as tf\n",
    "import math\n",
    "# from scipy.optimize import fsolve\n",
    "# from scipy.optimize import root\n",
    "from scipy.optimize import minimize\n",
    "# from scipy import signal\n",
    "# from scipy import linalg\n",
    "# import scipy as scp\n",
    "# import sympy as  syp\n",
    "# from tensorflow.keras import backend as K\n",
    "# from tensorflow.keras.layers import Layer\n",
    "# from tensorflow.keras.models import Sequential"
   ]
  },
  {
   "cell_type": "code",
   "execution_count": 4,
   "metadata": {},
   "outputs": [],
   "source": [
    "class process_hyperspec(object):\n",
    "    \n",
    "    def __init__(self, path, scat):\n",
    "        self.path = path\n",
    "        self.scat = scat\n",
    "        \n",
    "    def read_data(self):\n",
    "        ## Read data from txt\n",
    "        data=pd.read_fwf(self.path, dtype = object, header = None)## Read data as Pandas DataFrame\n",
    "        data_8 = data.loc[8,:].str[6:] ## Select data of column of wavelengths\n",
    "\n",
    "        data_nm_dataframe =pd.read_csv(StringIO(data_8[0]))\n",
    "\n",
    "        with open(self.path,'r',encoding='utf-8') as f:\n",
    "            content = f.read()\n",
    "\n",
    "        flag = 0\n",
    "        for index in range(len(content)):##find the start point  of time and intensity data, pointer is the 'index'\n",
    "            if (content[index] == '\\n') and (flag != 9):\n",
    "                flag = flag + 1\n",
    "            elif (content[index] == '\\n') and (flag == 9):\n",
    "                break\n",
    "            else:\n",
    "                continue\n",
    "\n",
    "        data_ns = pd.read_csv(StringIO(content[index:len(content)]), names = data_nm_dataframe.columns[0:len(set(data_nm_dataframe))]) ## Read data of time and gray \n",
    "        img_nm_ns = np.array(data_ns)    ## Transform to numpy array                                image as DataFrame; names is a 640x0 array indicates the wavelengths range\n",
    "        \n",
    "        self.data_frame = data_ns\n",
    "        self.data_array = img_nm_ns\n",
    "        \n",
    "    def cal_846nm(self):\n",
    "        time_total, wavelength_total = self.data_array.shape ## Generate an array contains intensity versus time data on 846nm\n",
    "        data_846nm = np.zeros((time_total,), dtype = float )\n",
    "        for i in range(wavelength_total):\n",
    "            data_846nm = self.data_array[:,i] + data_846nm\n",
    "\n",
    "        return data_846nm/wavelength_total\n",
    "    \n",
    "    def return_dataframe(self):\n",
    "        \n",
    "        return self.data_frame\n",
    "    \n",
    "    def return_array(self):\n",
    "        return self.data_array"
   ]
  },
  {
   "cell_type": "code",
   "execution_count": 5,
   "metadata": {},
   "outputs": [],
   "source": [
    "dict0 = {-1: 'Xiao_1206\\\\kiwi_center_irf_ND10000.txt',0:'Xiao_1206\\\\kiwi_soft_skin.txt',1:'Xiao_1206\\\\kiwi_hard_skin.txt'}\n",
    "dict1 = {-1: 'Xiao_1206\\\\kiwi_whole_irf_ND10000.txt',0:'Xiao_1206\\\\kiwi_soft_skin.txt',1:'Xiao_1206\\\\kiwi_hard_skin.txt'}\n",
    "dict2 = {-1: 'Xiao_1206\\\\kiwi_whole_irf_ND10000.txt',0:'Xiao_1206\\\\kiwi_soft_flesh.txt',1:'Xiao_1206\\\\kiwi_hard_flesh.txt'}\n",
    "dict3 = {-1: 'Xiao_1206\\\\kiwi_whole_irf_ND10000.txt',0:'Xiao_1206\\\\kiwi_soft_center.txt',1:'Xiao_1206\\\\kiwi_hard_center.txt'}"
   ]
  },
  {
   "cell_type": "code",
   "execution_count": 6,
   "metadata": {},
   "outputs": [
    {
     "data": {
      "image/png": "[encoded data removed]",
      "text/plain": [
       "<Figure size 432x288 with 1 Axes>"
      ]
     },
     "metadata": {
      "needs_background": "light"
     },
     "output_type": "display_data"
    }
   ],
   "source": [
    "N = 3\n",
    "scat = [None]*N\n",
    "data_480multi9 = np.zeros((N,480), dtype = float)\n",
    "for i in range(0,N):\n",
    "    scat[i] = process_hyperspec(dict3[i-1], i)\n",
    "    scat[i].read_data()\n",
    "    data_480multi9[i,:] = scat[i].cal_846nm()\n",
    "\n",
    "time_index = scat[0].return_dataframe().index\n",
    "\n",
    "line = [None]*N\n",
    "plt.figure('ns/nm')\n",
    "for i in range(0,N):\n",
    "    line[i], = plt.plot(data_480multi9[i,:])\n",
    "\n",
    "plt.legend(handles=[line[0],line[1],line[2]]\n",
    "           ,labels=['IRF skin','soft skin','hard skin'],loc='best')\n",
    "plt.show()\n",
    "    "
   ]
  },
  {
   "cell_type": "code",
   "execution_count": 7,
   "metadata": {},
   "outputs": [
    {
     "data": {
      "image/png": "[encoded data removed]",
      "text/plain": [
       "<Figure size 864x2592 with 3 Axes>"
      ]
     },
     "metadata": {
      "needs_background": "light"
     },
     "output_type": "display_data"
    }
   ],
   "source": [
    "plt.figure(figsize= (12,3*12))\n",
    "plt.subplot(1,3,1)\n",
    "plt.imshow(scat[0].return_array())\n",
    "plt.subplot(1,3,2)\n",
    "plt.imshow(scat[1].return_array())\n",
    "plt.subplot(1,3,3)\n",
    "plt.imshow(scat[2].return_array())\n",
    "plt.show()\n"
   ]
  },
  {
   "cell_type": "code",
   "execution_count": null,
   "metadata": {},
   "outputs": [],
   "source": []
  },
  {
   "cell_type": "code",
   "execution_count": 8,
   "metadata": {},
   "outputs": [],
   "source": [
    "def smooth(y, box_pts):\n",
    "    box = np.ones(box_pts) / box_pts\n",
    "    y_smooth = np.convolve(y, box, mode='same')\n",
    "    return y_smooth\n",
    "\n",
    "\n",
    "\n",
    "def split_signal(y):\n",
    "    THRESHOLD_V = 0.02\n",
    "    for i in range(len(y)):\n",
    "        if y[i] > THRESHOLD_V and y[i-1] <= THRESHOLD_V:\n",
    "            index1  = i\n",
    "        elif y[i] < THRESHOLD_V and y[i-1] >= THRESHOLD_V:\n",
    "            index2 = i\n",
    "    y2 = np.zeros((index2 - index1 + 1,))\n",
    "    y2 = y[index1:index2]\n",
    "        \n",
    "    return y2, index1"
   ]
  },
  {
   "cell_type": "code",
   "execution_count": 9,
   "metadata": {},
   "outputs": [],
   "source": [
    "data_intensity_extended = np.zeros((N, 959), dtype = float)\n",
    "data_intensity_extended[:, 0:479]  = data_480multi9[:,0:479]"
   ]
  },
  {
   "cell_type": "code",
   "execution_count": 10,
   "metadata": {},
   "outputs": [],
   "source": [
    "h = smooth(data_480multi9[0,:]/max(data_480multi9[0,:]), 10) #x*h = y ; x.shape = (480,) h.shape = (480,) y.shape = (959,)\n"
   ]
  },
  {
   "cell_type": "code",
   "execution_count": 11,
   "metadata": {},
   "outputs": [],
   "source": [
    "y =np.zeros((N,959))\n",
    "for i in range(0,N):\n",
    "    y[i,:] = smooth(data_intensity_extended[i,:]/max(data_intensity_extended[i,:]), 10)\n",
    "    \n"
   ]
  },
  {
   "cell_type": "code",
   "execution_count": 12,
   "metadata": {},
   "outputs": [],
   "source": [
    "\n",
    "    \n",
    "class calculate_miu_s(object):\n",
    "    \n",
    "    def __init__(self, h, y, time_index):\n",
    "        self.h = h\n",
    "        self.y = y\n",
    "        self.time = time_index\n",
    "        return None\n",
    "    \n",
    "    def transmittance(self, d, t, c, g, miu_a, miu_s):\n",
    "        miu_s_prime = (1-g)*miu_s\n",
    "        Z0 = 1/(miu_s_prime)\n",
    "        D = 1/(3*(miu_a + miu_s_prime))\n",
    "        h1 = math.pow(4*math.pi*D*c, -0.5)\n",
    "        h2 = math.pow(t, -1.5)*math.exp(-miu_a*c*t)\n",
    "        h3 = (d-Z0)*math.exp(-(math.pow(d-Z0, 2))/(4*D*c*t))\n",
    "        h4 = (d+Z0)*math.exp(-(math.pow(d+Z0, 2))/(4*D*c*t))\n",
    "        h5 = (3*d-Z0)*math.exp(-(math.pow(3*d-Z0, 2))/(4*D*c*t))\n",
    "        h6 = (3*d+Z0)*math.exp(-(math.pow(3*d+Z0, 2))/(4*D*c*t))\n",
    "    #     return d,Z0,D,c,t\n",
    "        return h1*h2*(h3-h4+h5-h6)\n",
    "    \n",
    "    \n",
    "    def error_cal(self, x):\n",
    "        miu_s = x[0]\n",
    "        miu_a = x[1]\n",
    "        # miu_a = 0.01e2\n",
    "        g = 0.85\n",
    "        d = 13.79e-3\n",
    "        # t = 300e-12\n",
    "        c = 3e8/1.3314\n",
    "        T = int(480)\n",
    "#         time = np.array(range(1,T, 1))\n",
    "#         time = time*1e-8*0.010345058455114822\n",
    "        time = self.time*1e-9\n",
    "        miu_s = miu_s*1e4\n",
    "        intensity1 = np.zeros((T, ), dtype = float)\n",
    "        for i in range(time.shape[0] - 1):\n",
    "\n",
    "            intensity1[i] = calculate_miu_s.transmittance(self, d, time[i], c, g, miu_a, miu_s)\n",
    "        \n",
    "        y2 = np.convolve(intensity1, self.h)\n",
    "        self.y_convolved = y2\n",
    "        y2 = y2/max(y2)\n",
    "        return np.sum(abs(y2-self.y))\n",
    "#         return time\n",
    "\n",
    "    def get_convolved_signal(self):\n",
    "        return self.y_convolved\n",
    "        \n"
   ]
  },
  {
   "cell_type": "code",
   "execution_count": 15,
   "metadata": {},
   "outputs": [
    {
     "name": "stdout",
     "output_type": "stream",
     "text": [
      "Optimization terminated successfully.\n",
      "         Current function value: 5.043657\n",
      "         Iterations: 154\n",
      "         Function evaluations: 288\n",
      "Optimization terminated successfully.\n",
      "         Current function value: 11.738209\n",
      "         Iterations: 110\n",
      "         Function evaluations: 206\n"
     ]
    }
   ],
   "source": [
    "miu_s_get = np.zeros((N-1,2))\n",
    "m = [None]*(N-1)\n",
    "for i in range(1,N):\n",
    "    m[i-1] = calculate_miu_s(h, y[i], time_index)\n",
    "    miu_s_get[i-1,:] = minimize(m[i-1].error_cal, x0 = [0.1,2], method  = 'Nelder-Mead', options={\"xtol\" : 1e-10, \"disp\":True}).x"
   ]
  },
  {
   "cell_type": "code",
   "execution_count": 22,
   "metadata": {},
   "outputs": [
    {
     "data": {
      "image/png": "[encoded data removed]",
      "text/plain": [
       "<Figure size 432x288 with 3 Axes>"
      ]
     },
     "metadata": {
      "needs_background": "light"
     },
     "output_type": "display_data"
    }
   ],
   "source": [
    "m = [None]*(N-1)\n",
    "fitted = np.zeros((N-1,480))\n",
    "\n",
    "plt.figure()\n",
    "for i in range(0,(N-1)):\n",
    "    m[i] = calculate_miu_s(h, y[i,:], time_index)\n",
    "    m[i].error_cal(miu_s_get[i])\n",
    "    fitted[i,] = m[i].get_convolved_signal()[0:480]\n",
    "\n",
    "# plt.subplot(2,1,1)\n",
    "# for i in range(0,(N-1)):\n",
    "#     line[i], = plt.plot(fitted[i])\n",
    "\n",
    "plt.subplot(2,2,1)\n",
    "line[0], = plt.plot(fitted[0])\n",
    "\n",
    "plt.subplot(2,2,2)\n",
    "line[1], = plt.plot(fitted[1])\n",
    "\n",
    "plt.legend(handles=[line[0],line[1]]\n",
    "           ,labels=['soft','hard'],loc='best')\n",
    "# m2.error_cal(x = [1.32009632, 0.83100736])\n",
    "# plt.plot(m2.get_convolved_signal())\n",
    "\n",
    "# m2.error_cal(x = [1.35795134, 0.37235146])\n",
    "\n",
    "# plt.plot(m2.get_convolved_signal())\n",
    "plt.subplot(2,2,3)\n",
    "for i in range(1,N):\n",
    "    plt.plot(data_480multi9[i,:])\n",
    "    \n",
    "\n",
    "plt.show()\n",
    "# print(y2.shape,y.shape)"
   ]
  },
  {
   "cell_type": "code",
   "execution_count": 17,
   "metadata": {},
   "outputs": [
    {
     "name": "stdout",
     "output_type": "stream",
     "text": [
      "[[ 3.55129939 93.13362643]\n",
      " [ 0.40724731  2.02003515]]\n"
     ]
    }
   ],
   "source": [
    "print(miu_s_get)"
   ]
  },
  {
   "cell_type": "code",
   "execution_count": 166,
   "metadata": {},
   "outputs": [
    {
     "name": "stdout",
     "output_type": "stream",
     "text": [
      "[[6.34283707e-02 2.82894665e+04]\n",
      " [6.46020305e-02 1.93385030e+04]]\n"
     ]
    }
   ],
   "source": [
    "print(miu_s_get)"
   ]
  },
  {
   "cell_type": "code",
   "execution_count": null,
   "metadata": {},
   "outputs": [],
   "source": []
  }
 ],
 "metadata": {
  "kernelspec": {
   "display_name": "Python 3",
   "language": "python",
   "name": "python3"
  },
  "language_info": {
   "codemirror_mode": {
    "name": "ipython",
    "version": 3
   },
   "file_extension": ".py",
   "mimetype": "text/x-python",
   "name": "python",
   "nbconvert_exporter": "python",
   "pygments_lexer": "ipython3",
   "version": "3.8.5"
  }
 },
 "nbformat": 4,
 "nbformat_minor": 4
}
