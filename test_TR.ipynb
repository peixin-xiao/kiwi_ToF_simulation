{
 "cells": [
  {
   "cell_type": "code",
   "execution_count": 1,
   "id": "fd94ed86-e45a-4c8f-8266-c1b6308be376",
   "metadata": {},
   "outputs": [],
   "source": [
    "# calculate kiwifruit 's each parts' mua, mus, with equal scale enlarge\n",
    "import pandas as pd\n",
    "from pandas import DataFrame,Series\n",
    "import numpy as np\n",
    "from io import StringIO\n",
    "import matplotlib.pyplot as plt\n",
    "# import tensorflow as tf\n",
    "import math\n",
    "# from scipy.optimize import fsolve\n",
    "# from scipy.optimize import root\n",
    "import scipy as scipy\n",
    "from scipy.optimize import minimize\n",
    "# from scipy import signal\n",
    "# from scipy import linalg\n",
    "# import scipy as scp\n",
    "# import sympy as  syp\n",
    "# from tensorflow.keras import backend as K\n",
    "# from tensorflow.keras.layers import Layer\n",
    "# from tensorflow.keras.models import Sequential"
   ]
  },
  {
   "cell_type": "code",
   "execution_count": 2,
   "id": "9a95a1e2-5dd9-4962-9a4b-ac92d0eb534c",
   "metadata": {},
   "outputs": [],
   "source": [
    "class process_hyperspec(object):\n",
    "    \n",
    "    def __init__(self, path, scat):\n",
    "        self.path = path\n",
    "        self.scat = scat\n",
    "        \n",
    "    def read_data(self):\n",
    "        ## Read data from txt\n",
    "        data=pd.read_fwf(self.path, dtype = object, header = None)## Read data as Pandas DataFrame\n",
    "        data_8 = data.loc[8,:].str[6:] ## Select data of column of wavelengths\n",
    "\n",
    "        data_nm_dataframe =pd.read_csv(StringIO(data_8[0]))\n",
    "\n",
    "        with open(self.path,'r',encoding='utf-8') as f:\n",
    "            content = f.read()\n",
    "\n",
    "        flag = 0\n",
    "        for index in range(len(content)):##find the start point  of time and intensity data, pointer is the 'index'\n",
    "            if (content[index] == '\\n') and (flag != 9):\n",
    "                flag = flag + 1\n",
    "            elif (content[index] == '\\n') and (flag == 9):\n",
    "                break\n",
    "            else:\n",
    "                continue\n",
    "\n",
    "        data_ns = pd.read_csv(StringIO(content[index:len(content)]), names = data_nm_dataframe.columns[0:len(set(data_nm_dataframe))]) ## Read data of time and gray \n",
    "        img_nm_ns = np.array(data_ns)    ## Transform to numpy array                                image as DataFrame; names is a 640x0 array indicates the wavelengths range\n",
    "        \n",
    "        self.data_frame = data_ns\n",
    "        self.data_array = img_nm_ns\n",
    "        \n",
    "    def cal_846nm(self):\n",
    "        time_total, wavelength_total = self.data_array.shape ## Generate an array contains intensity versus time data on 846nm\n",
    "        data_846nm = np.zeros((time_total,), dtype = float )\n",
    "        for i in range(wavelength_total):\n",
    "            data_846nm = self.data_array[:,i] + data_846nm\n",
    "\n",
    "        return data_846nm/wavelength_total\n",
    "    \n",
    "    def return_dataframe(self):\n",
    "        \n",
    "        return self.data_frame\n",
    "    \n",
    "    def return_array(self):\n",
    "        return self.data_array"
   ]
  },
  {
   "cell_type": "code",
   "execution_count": 3,
   "id": "9129ce92-5352-4c9d-b876-11c0e9ee9371",
   "metadata": {},
   "outputs": [],
   "source": [
    "N = 1\n",
    "scat = [None]*N\n",
    "data_480multi9 = np.zeros((N,480), dtype = float)\n",
    "for i in range(0,N):\n",
    "    scat[i] = process_hyperspec('Xiao_1206\\\\kiwi_whole_irf_ND10000.txt', i)\n",
    "    scat[i].read_data()\n",
    "    data_480multi9[i,:] = scat[i].cal_846nm()\n",
    "\n",
    "time_index = scat[0].return_dataframe().index"
   ]
  },
  {
   "cell_type": "code",
   "execution_count": 4,
   "id": "1001bb7d-6be2-46b1-9743-7cb60174006f",
   "metadata": {},
   "outputs": [
    {
     "data": {
      "image/png": "[encoded data removed]",
      "text/plain": [
       "<Figure size 200x200 with 1 Axes>"
      ]
     },
     "metadata": {},
     "output_type": "display_data"
    }
   ],
   "source": [
    "plt.figure(figsize = (2,2))\n",
    "plt.plot(time_index)\n",
    "plt.show()"
   ]
  },
  {
   "cell_type": "code",
   "execution_count": 5,
   "id": "2c784066-aa73-4cd6-849a-612a150f5df7",
   "metadata": {},
   "outputs": [],
   "source": [
    "def transmittance(d, t, c, g, miu_a, miu_s):\n",
    "        miu_s_prime = (1-g)*miu_s\n",
    "        Z0 = 1/(miu_s_prime)\n",
    "        D = 1/(3*(miu_a + miu_s_prime))\n",
    "        h1 = math.pow(4*math.pi*D*c, -0.5)\n",
    "        h2 = math.pow(t, -1.5)*math.exp(-miu_a*c*t)\n",
    "        h3 = (d-Z0)*math.exp(-(math.pow(d-Z0, 2))/(4*D*c*t))\n",
    "        h4 = (d+Z0)*math.exp(-(math.pow(d+Z0, 2))/(4*D*c*t))\n",
    "        h5 = (3*d-Z0)*math.exp(-(math.pow(3*d-Z0, 2))/(4*D*c*t))\n",
    "        h6 = (3*d+Z0)*math.exp(-(math.pow(3*d+Z0, 2))/(4*D*c*t))\n",
    "    #     return d,Z0,D,c,t\n",
    "        return h1*h2*(h3-h4+h5-h6)\n",
    "    \n",
    "def error_cal(x,d,time,h):\n",
    "        miu_a = x[0]\n",
    "        miu_s = x[1]\n",
    "        g = 0.85\n",
    "        # d = 0.38e-3\n",
    "        k=1\n",
    "        c = 3e8/1.3314\n",
    "        T = int(480)\n",
    "#         time = np.array(range(1,T, 1))\n",
    "#         time = time*1e-8*0.010345058455114822\n",
    "        time = time*1e-9\n",
    "        intensity1 = np.zeros((T, ), dtype = float)\n",
    "        for i in range(time.shape[0] ):\n",
    "\n",
    "            intensity1[i] = transmittance( d, time[i], c, g, miu_a, miu_s)\n",
    "        \n",
    "        y3 = np.convolve(intensity1, h)\n",
    "        y2 = intensity1*k\n",
    "        return y2,y3"
   ]
  },
  {
   "cell_type": "code",
   "execution_count": 53,
   "id": "64aca869-7f77-456f-84a4-8ce9d922e514",
   "metadata": {},
   "outputs": [
    {
     "data": {
      "image/png": "[encoded data removed]",
      "text/plain": [
       "<Figure size 200x200 with 1 Axes>"
      ]
     },
     "metadata": {},
     "output_type": "display_data"
    }
   ],
   "source": [
    "h = data_480multi9[0,:]/5\n",
    "plt.figure(figsize = (2,2))\n",
    "plt.plot(time_index,h)\n",
    "plt.show()"
   ]
  },
  {
   "cell_type": "code",
   "execution_count": 54,
   "id": "89753f68-d573-4a1a-8731-fc8450bf3bd9",
   "metadata": {},
   "outputs": [],
   "source": [
    "optical_paramter = np.array([7.2e3,1.5e5])\n",
    "y2,y3 = error_cal(optical_paramter,0.38*1e-3,time_index,h)"
   ]
  },
  {
   "cell_type": "code",
   "execution_count": 55,
   "id": "b1cc4b24-00a0-4407-97fe-6643294d8262",
   "metadata": {},
   "outputs": [
    {
     "data": {
      "image/png": "[encoded data removed]",
      "text/plain": [
       "<Figure size 400x200 with 2 Axes>"
      ]
     },
     "metadata": {},
     "output_type": "display_data"
    }
   ],
   "source": [
    "plt.figure(figsize = (4,2))\n",
    "plt.subplot(1,2,1)\n",
    "plt.plot(y2)\n",
    "plt.subplot(1,2,2)\n",
    "plt.plot(y3)\n",
    "plt.tight_layout(pad=1.0)\n",
    "plt.show()"
   ]
  },
  {
   "cell_type": "code",
   "execution_count": 56,
   "id": "c2b27cae-e8fc-42de-8c78-10ba5e62192d",
   "metadata": {},
   "outputs": [],
   "source": [
    "optical_paramter = np.array([3.9e3,6.8e4])\n",
    "y2,y3 = error_cal(optical_paramter,0.53*1e-3,time_index,h)"
   ]
  },
  {
   "cell_type": "code",
   "execution_count": 57,
   "id": "5d7374e4-caac-4bda-9f0b-75a1e0400225",
   "metadata": {},
   "outputs": [
    {
     "data": {
      "image/png": "[encoded data removed]",
      "text/plain": [
       "<Figure size 400x200 with 2 Axes>"
      ]
     },
     "metadata": {},
     "output_type": "display_data"
    }
   ],
   "source": [
    "plt.figure(figsize = (4,2))\n",
    "plt.subplot(1,2,1)\n",
    "plt.plot(y2)\n",
    "plt.subplot(1,2,2)\n",
    "plt.plot(y3)\n",
    "plt.tight_layout(pad=1.0)\n",
    "plt.show()"
   ]
  },
  {
   "cell_type": "code",
   "execution_count": null,
   "id": "86248acb-0cd6-4db2-955b-196486c28456",
   "metadata": {},
   "outputs": [],
   "source": []
  }
 ],
 "metadata": {
  "kernelspec": {
   "display_name": "Python 3 (ipykernel)",
   "language": "python",
   "name": "python3"
  },
  "language_info": {
   "codemirror_mode": {
    "name": "ipython",
    "version": 3
   },
   "file_extension": ".py",
   "mimetype": "text/x-python",
   "name": "python",
   "nbconvert_exporter": "python",
   "pygments_lexer": "ipython3",
   "version": "3.9.15"
  }
 },
 "nbformat": 4,
 "nbformat_minor": 5
}
